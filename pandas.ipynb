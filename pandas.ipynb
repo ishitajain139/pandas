{
 "cells": [
  {
   "cell_type": "code",
   "execution_count": 1,
   "metadata": {},
   "outputs": [],
   "source": [
    "import pandas as pd"
   ]
  },
  {
   "cell_type": "code",
   "execution_count": 2,
   "metadata": {},
   "outputs": [
    {
     "data": {
      "text/html": [
       "<div>\n",
       "<style scoped>\n",
       "    .dataframe tbody tr th:only-of-type {\n",
       "        vertical-align: middle;\n",
       "    }\n",
       "\n",
       "    .dataframe tbody tr th {\n",
       "        vertical-align: top;\n",
       "    }\n",
       "\n",
       "    .dataframe thead th {\n",
       "        text-align: right;\n",
       "    }\n",
       "</style>\n",
       "<table border=\"1\" class=\"dataframe\">\n",
       "  <thead>\n",
       "    <tr style=\"text-align: right;\">\n",
       "      <th></th>\n",
       "      <th>student</th>\n",
       "      <th>marks</th>\n",
       "    </tr>\n",
       "  </thead>\n",
       "  <tbody>\n",
       "    <tr>\n",
       "      <th>0</th>\n",
       "      <td>ishi</td>\n",
       "      <td>34</td>\n",
       "    </tr>\n",
       "    <tr>\n",
       "      <th>1</th>\n",
       "      <td>ashu</td>\n",
       "      <td>56</td>\n",
       "    </tr>\n",
       "    <tr>\n",
       "      <th>2</th>\n",
       "      <td>vansh</td>\n",
       "      <td>37</td>\n",
       "    </tr>\n",
       "  </tbody>\n",
       "</table>\n",
       "</div>"
      ],
      "text/plain": [
       "  student  marks\n",
       "0    ishi     34\n",
       "1    ashu     56\n",
       "2   vansh     37"
      ]
     },
     "execution_count": 2,
     "metadata": {},
     "output_type": "execute_result"
    }
   ],
   "source": [
    "data={\n",
    "    'student':['ishi','ashu','vansh'],\n",
    "    'marks':[34,56,37]\n",
    "}\n",
    "a=pd.DataFrame(data)\n",
    "a"
   ]
  },
  {
   "cell_type": "code",
   "execution_count": 3,
   "metadata": {},
   "outputs": [
    {
     "data": {
      "text/plain": [
       "'1.0.5'"
      ]
     },
     "execution_count": 3,
     "metadata": {},
     "output_type": "execute_result"
    }
   ],
   "source": [
    "pd.__version__"
   ]
  },
  {
   "cell_type": "code",
   "execution_count": 4,
   "metadata": {},
   "outputs": [
    {
     "data": {
      "text/plain": [
       "0    1\n",
       "1    2\n",
       "2    3\n",
       "3    4\n",
       "dtype: int64"
      ]
     },
     "execution_count": 4,
     "metadata": {},
     "output_type": "execute_result"
    }
   ],
   "source": [
    "a=[1,2,3,4]\n",
    "i=pd.Series(a)\n",
    "i"
   ]
  },
  {
   "cell_type": "code",
   "execution_count": 5,
   "metadata": {},
   "outputs": [
    {
     "data": {
      "text/plain": [
       "1"
      ]
     },
     "execution_count": 5,
     "metadata": {},
     "output_type": "execute_result"
    }
   ],
   "source": [
    "a[0]"
   ]
  },
  {
   "cell_type": "code",
   "execution_count": 6,
   "metadata": {},
   "outputs": [
    {
     "data": {
      "text/plain": [
       "w    1\n",
       "x    2\n",
       "y    3\n",
       "z    4\n",
       "dtype: int64"
      ]
     },
     "execution_count": 6,
     "metadata": {},
     "output_type": "execute_result"
    }
   ],
   "source": [
    "a=[1,2,3,4]\n",
    "i=pd.Series(a, index=['w','x','y','z'])\n",
    "i"
   ]
  },
  {
   "cell_type": "code",
   "execution_count": 7,
   "metadata": {},
   "outputs": [
    {
     "data": {
      "text/plain": [
       "a    1\n",
       "b    2\n",
       "c    3\n",
       "dtype: int64"
      ]
     },
     "execution_count": 7,
     "metadata": {},
     "output_type": "execute_result"
    }
   ],
   "source": [
    "a={'a':1,'b':2,'c':3}\n",
    "i=pd.Series(a)\n",
    "i"
   ]
  },
  {
   "cell_type": "code",
   "execution_count": 8,
   "metadata": {},
   "outputs": [
    {
     "data": {
      "text/plain": [
       "b    2\n",
       "c    3\n",
       "dtype: int64"
      ]
     },
     "execution_count": 8,
     "metadata": {},
     "output_type": "execute_result"
    }
   ],
   "source": [
    "a={'a':1,'b':2,'c':3}\n",
    "i=pd.Series(a, index=['b','c'])\n",
    "i"
   ]
  },
  {
   "cell_type": "code",
   "execution_count": 9,
   "metadata": {},
   "outputs": [
    {
     "data": {
      "text/html": [
       "<div>\n",
       "<style scoped>\n",
       "    .dataframe tbody tr th:only-of-type {\n",
       "        vertical-align: middle;\n",
       "    }\n",
       "\n",
       "    .dataframe tbody tr th {\n",
       "        vertical-align: top;\n",
       "    }\n",
       "\n",
       "    .dataframe thead th {\n",
       "        text-align: right;\n",
       "    }\n",
       "</style>\n",
       "<table border=\"1\" class=\"dataframe\">\n",
       "  <thead>\n",
       "    <tr style=\"text-align: right;\">\n",
       "      <th></th>\n",
       "      <th>a</th>\n",
       "      <th>b</th>\n",
       "      <th>c</th>\n",
       "    </tr>\n",
       "  </thead>\n",
       "  <tbody>\n",
       "    <tr>\n",
       "      <th>0</th>\n",
       "      <td>1</td>\n",
       "      <td>2</td>\n",
       "      <td>3</td>\n",
       "    </tr>\n",
       "    <tr>\n",
       "      <th>1</th>\n",
       "      <td>1</td>\n",
       "      <td>2</td>\n",
       "      <td>3</td>\n",
       "    </tr>\n",
       "    <tr>\n",
       "      <th>2</th>\n",
       "      <td>1</td>\n",
       "      <td>2</td>\n",
       "      <td>3</td>\n",
       "    </tr>\n",
       "  </tbody>\n",
       "</table>\n",
       "</div>"
      ],
      "text/plain": [
       "   a  b  c\n",
       "0  1  2  3\n",
       "1  1  2  3\n",
       "2  1  2  3"
      ]
     },
     "execution_count": 9,
     "metadata": {},
     "output_type": "execute_result"
    }
   ],
   "source": [
    "a={'a':1,'b':2,'c':3}\n",
    "i=pd.DataFrame(a, index=[0,1,2])\n",
    "i"
   ]
  },
  {
   "cell_type": "code",
   "execution_count": 10,
   "metadata": {},
   "outputs": [
    {
     "data": {
      "text/plain": [
       "a    1\n",
       "b    2\n",
       "c    3\n",
       "Name: 0, dtype: int64"
      ]
     },
     "execution_count": 10,
     "metadata": {},
     "output_type": "execute_result"
    }
   ],
   "source": [
    "i.loc[0]"
   ]
  },
  {
   "cell_type": "code",
   "execution_count": 11,
   "metadata": {},
   "outputs": [
    {
     "data": {
      "text/plain": [
       "a    1\n",
       "b    2\n",
       "c    3\n",
       "Name: 2, dtype: int64"
      ]
     },
     "execution_count": 11,
     "metadata": {},
     "output_type": "execute_result"
    }
   ],
   "source": [
    "i.loc[2]"
   ]
  },
  {
   "cell_type": "code",
   "execution_count": 12,
   "metadata": {},
   "outputs": [
    {
     "data": {
      "text/html": [
       "<div>\n",
       "<style scoped>\n",
       "    .dataframe tbody tr th:only-of-type {\n",
       "        vertical-align: middle;\n",
       "    }\n",
       "\n",
       "    .dataframe tbody tr th {\n",
       "        vertical-align: top;\n",
       "    }\n",
       "\n",
       "    .dataframe thead th {\n",
       "        text-align: right;\n",
       "    }\n",
       "</style>\n",
       "<table border=\"1\" class=\"dataframe\">\n",
       "  <thead>\n",
       "    <tr style=\"text-align: right;\">\n",
       "      <th></th>\n",
       "      <th>a</th>\n",
       "      <th>b</th>\n",
       "      <th>c</th>\n",
       "    </tr>\n",
       "  </thead>\n",
       "  <tbody>\n",
       "    <tr>\n",
       "      <th>0</th>\n",
       "      <td>1</td>\n",
       "      <td>2</td>\n",
       "      <td>3</td>\n",
       "    </tr>\n",
       "    <tr>\n",
       "      <th>1</th>\n",
       "      <td>1</td>\n",
       "      <td>2</td>\n",
       "      <td>3</td>\n",
       "    </tr>\n",
       "    <tr>\n",
       "      <th>2</th>\n",
       "      <td>1</td>\n",
       "      <td>2</td>\n",
       "      <td>3</td>\n",
       "    </tr>\n",
       "  </tbody>\n",
       "</table>\n",
       "</div>"
      ],
      "text/plain": [
       "   a  b  c\n",
       "0  1  2  3\n",
       "1  1  2  3\n",
       "2  1  2  3"
      ]
     },
     "execution_count": 12,
     "metadata": {},
     "output_type": "execute_result"
    }
   ],
   "source": [
    "i"
   ]
  },
  {
   "cell_type": "code",
   "execution_count": 13,
   "metadata": {},
   "outputs": [
    {
     "data": {
      "text/html": [
       "<div>\n",
       "<style scoped>\n",
       "    .dataframe tbody tr th:only-of-type {\n",
       "        vertical-align: middle;\n",
       "    }\n",
       "\n",
       "    .dataframe tbody tr th {\n",
       "        vertical-align: top;\n",
       "    }\n",
       "\n",
       "    .dataframe thead th {\n",
       "        text-align: right;\n",
       "    }\n",
       "</style>\n",
       "<table border=\"1\" class=\"dataframe\">\n",
       "  <thead>\n",
       "    <tr style=\"text-align: right;\">\n",
       "      <th></th>\n",
       "      <th>a</th>\n",
       "      <th>b</th>\n",
       "      <th>c</th>\n",
       "    </tr>\n",
       "  </thead>\n",
       "  <tbody>\n",
       "    <tr>\n",
       "      <th>0</th>\n",
       "      <td>1</td>\n",
       "      <td>2</td>\n",
       "      <td>3</td>\n",
       "    </tr>\n",
       "    <tr>\n",
       "      <th>1</th>\n",
       "      <td>1</td>\n",
       "      <td>2</td>\n",
       "      <td>3</td>\n",
       "    </tr>\n",
       "  </tbody>\n",
       "</table>\n",
       "</div>"
      ],
      "text/plain": [
       "   a  b  c\n",
       "0  1  2  3\n",
       "1  1  2  3"
      ]
     },
     "execution_count": 13,
     "metadata": {},
     "output_type": "execute_result"
    }
   ],
   "source": [
    "i.loc[[0,1]]"
   ]
  },
  {
   "cell_type": "code",
   "execution_count": 14,
   "metadata": {},
   "outputs": [
    {
     "data": {
      "text/html": [
       "<div>\n",
       "<style scoped>\n",
       "    .dataframe tbody tr th:only-of-type {\n",
       "        vertical-align: middle;\n",
       "    }\n",
       "\n",
       "    .dataframe tbody tr th {\n",
       "        vertical-align: top;\n",
       "    }\n",
       "\n",
       "    .dataframe thead th {\n",
       "        text-align: right;\n",
       "    }\n",
       "</style>\n",
       "<table border=\"1\" class=\"dataframe\">\n",
       "  <thead>\n",
       "    <tr style=\"text-align: right;\">\n",
       "      <th></th>\n",
       "      <th>Name</th>\n",
       "      <th>\"Team\"</th>\n",
       "      <th>\"Position\"</th>\n",
       "      <th>\"Height(inches)\"</th>\n",
       "      <th>\"Weight(lbs)\"</th>\n",
       "      <th>\"Age\"</th>\n",
       "    </tr>\n",
       "  </thead>\n",
       "  <tbody>\n",
       "    <tr>\n",
       "      <th>0</th>\n",
       "      <td>Adam Donachie</td>\n",
       "      <td>\"BAL\"</td>\n",
       "      <td>\"Catcher\"</td>\n",
       "      <td>74</td>\n",
       "      <td>180</td>\n",
       "      <td>22.99</td>\n",
       "    </tr>\n",
       "    <tr>\n",
       "      <th>1</th>\n",
       "      <td>Paul Bako</td>\n",
       "      <td>\"BAL\"</td>\n",
       "      <td>\"Catcher\"</td>\n",
       "      <td>74</td>\n",
       "      <td>215</td>\n",
       "      <td>34.69</td>\n",
       "    </tr>\n",
       "    <tr>\n",
       "      <th>2</th>\n",
       "      <td>Ramon Hernandez</td>\n",
       "      <td>\"BAL\"</td>\n",
       "      <td>\"Catcher\"</td>\n",
       "      <td>72</td>\n",
       "      <td>210</td>\n",
       "      <td>30.78</td>\n",
       "    </tr>\n",
       "    <tr>\n",
       "      <th>3</th>\n",
       "      <td>Kevin Millar</td>\n",
       "      <td>\"BAL\"</td>\n",
       "      <td>\"First Baseman\"</td>\n",
       "      <td>72</td>\n",
       "      <td>210</td>\n",
       "      <td>35.43</td>\n",
       "    </tr>\n",
       "    <tr>\n",
       "      <th>4</th>\n",
       "      <td>Chris Gomez</td>\n",
       "      <td>\"BAL\"</td>\n",
       "      <td>\"First Baseman\"</td>\n",
       "      <td>73</td>\n",
       "      <td>188</td>\n",
       "      <td>35.71</td>\n",
       "    </tr>\n",
       "    <tr>\n",
       "      <th>5</th>\n",
       "      <td>Brian Roberts</td>\n",
       "      <td>\"BAL\"</td>\n",
       "      <td>\"Second Baseman\"</td>\n",
       "      <td>69</td>\n",
       "      <td>176</td>\n",
       "      <td>29.39</td>\n",
       "    </tr>\n",
       "    <tr>\n",
       "      <th>6</th>\n",
       "      <td>Miguel Tejada</td>\n",
       "      <td>\"BAL\"</td>\n",
       "      <td>\"Shortstop\"</td>\n",
       "      <td>69</td>\n",
       "      <td>209</td>\n",
       "      <td>30.77</td>\n",
       "    </tr>\n",
       "    <tr>\n",
       "      <th>7</th>\n",
       "      <td>Melvin Mora</td>\n",
       "      <td>\"BAL\"</td>\n",
       "      <td>\"Third Baseman\"</td>\n",
       "      <td>71</td>\n",
       "      <td>200</td>\n",
       "      <td>35.07</td>\n",
       "    </tr>\n",
       "    <tr>\n",
       "      <th>8</th>\n",
       "      <td>Aubrey Huff</td>\n",
       "      <td>\"BAL\"</td>\n",
       "      <td>\"Third Baseman\"</td>\n",
       "      <td>76</td>\n",
       "      <td>231</td>\n",
       "      <td>30.19</td>\n",
       "    </tr>\n",
       "    <tr>\n",
       "      <th>9</th>\n",
       "      <td>Adam Stern</td>\n",
       "      <td>\"BAL\"</td>\n",
       "      <td>\"Outfielder\"</td>\n",
       "      <td>71</td>\n",
       "      <td>180</td>\n",
       "      <td>27.05</td>\n",
       "    </tr>\n",
       "    <tr>\n",
       "      <th>10</th>\n",
       "      <td>Jeff Fiorentino</td>\n",
       "      <td>\"BAL\"</td>\n",
       "      <td>\"Outfielder\"</td>\n",
       "      <td>73</td>\n",
       "      <td>188</td>\n",
       "      <td>23.88</td>\n",
       "    </tr>\n",
       "    <tr>\n",
       "      <th>11</th>\n",
       "      <td>Freddie Bynum</td>\n",
       "      <td>\"BAL\"</td>\n",
       "      <td>\"Outfielder\"</td>\n",
       "      <td>73</td>\n",
       "      <td>180</td>\n",
       "      <td>26.96</td>\n",
       "    </tr>\n",
       "    <tr>\n",
       "      <th>12</th>\n",
       "      <td>Nick Markakis</td>\n",
       "      <td>\"BAL\"</td>\n",
       "      <td>\"Outfielder\"</td>\n",
       "      <td>74</td>\n",
       "      <td>185</td>\n",
       "      <td>23.29</td>\n",
       "    </tr>\n",
       "    <tr>\n",
       "      <th>13</th>\n",
       "      <td>Brandon Fahey</td>\n",
       "      <td>\"BAL\"</td>\n",
       "      <td>\"Outfielder\"</td>\n",
       "      <td>74</td>\n",
       "      <td>160</td>\n",
       "      <td>26.11</td>\n",
       "    </tr>\n",
       "    <tr>\n",
       "      <th>14</th>\n",
       "      <td>Corey Patterson</td>\n",
       "      <td>\"BAL\"</td>\n",
       "      <td>\"Outfielder\"</td>\n",
       "      <td>69</td>\n",
       "      <td>180</td>\n",
       "      <td>27.55</td>\n",
       "    </tr>\n",
       "    <tr>\n",
       "      <th>15</th>\n",
       "      <td>Jay Payton</td>\n",
       "      <td>\"BAL\"</td>\n",
       "      <td>\"Outfielder\"</td>\n",
       "      <td>70</td>\n",
       "      <td>185</td>\n",
       "      <td>34.27</td>\n",
       "    </tr>\n",
       "    <tr>\n",
       "      <th>16</th>\n",
       "      <td>Jay Gibbons</td>\n",
       "      <td>\"BAL\"</td>\n",
       "      <td>\"Designated Hitter\"</td>\n",
       "      <td>72</td>\n",
       "      <td>197</td>\n",
       "      <td>30.00</td>\n",
       "    </tr>\n",
       "    <tr>\n",
       "      <th>17</th>\n",
       "      <td>Erik Bedard</td>\n",
       "      <td>\"BAL\"</td>\n",
       "      <td>\"Starting Pitcher\"</td>\n",
       "      <td>73</td>\n",
       "      <td>189</td>\n",
       "      <td>27.99</td>\n",
       "    </tr>\n",
       "    <tr>\n",
       "      <th>18</th>\n",
       "      <td>Hayden Penn</td>\n",
       "      <td>\"BAL\"</td>\n",
       "      <td>\"Starting Pitcher\"</td>\n",
       "      <td>75</td>\n",
       "      <td>185</td>\n",
       "      <td>22.38</td>\n",
       "    </tr>\n",
       "    <tr>\n",
       "      <th>19</th>\n",
       "      <td>Adam Loewen</td>\n",
       "      <td>\"BAL\"</td>\n",
       "      <td>\"Starting Pitcher\"</td>\n",
       "      <td>78</td>\n",
       "      <td>219</td>\n",
       "      <td>22.89</td>\n",
       "    </tr>\n",
       "    <tr>\n",
       "      <th>20</th>\n",
       "      <td>Daniel Cabrera</td>\n",
       "      <td>\"BAL\"</td>\n",
       "      <td>\"Starting Pitcher\"</td>\n",
       "      <td>79</td>\n",
       "      <td>230</td>\n",
       "      <td>25.76</td>\n",
       "    </tr>\n",
       "    <tr>\n",
       "      <th>21</th>\n",
       "      <td>Steve Trachsel</td>\n",
       "      <td>\"BAL\"</td>\n",
       "      <td>\"Starting Pitcher\"</td>\n",
       "      <td>76</td>\n",
       "      <td>205</td>\n",
       "      <td>36.33</td>\n",
       "    </tr>\n",
       "    <tr>\n",
       "      <th>22</th>\n",
       "      <td>Jaret Wright</td>\n",
       "      <td>\"BAL\"</td>\n",
       "      <td>\"Starting Pitcher\"</td>\n",
       "      <td>74</td>\n",
       "      <td>230</td>\n",
       "      <td>31.17</td>\n",
       "    </tr>\n",
       "    <tr>\n",
       "      <th>23</th>\n",
       "      <td>Kris Benson</td>\n",
       "      <td>\"BAL\"</td>\n",
       "      <td>\"Starting Pitcher\"</td>\n",
       "      <td>76</td>\n",
       "      <td>195</td>\n",
       "      <td>32.31</td>\n",
       "    </tr>\n",
       "    <tr>\n",
       "      <th>24</th>\n",
       "      <td>Scott Williamson</td>\n",
       "      <td>\"BAL\"</td>\n",
       "      <td>\"Relief Pitcher\"</td>\n",
       "      <td>72</td>\n",
       "      <td>180</td>\n",
       "      <td>31.03</td>\n",
       "    </tr>\n",
       "    <tr>\n",
       "      <th>25</th>\n",
       "      <td>John Parrish</td>\n",
       "      <td>\"BAL\"</td>\n",
       "      <td>\"Relief Pitcher\"</td>\n",
       "      <td>71</td>\n",
       "      <td>192</td>\n",
       "      <td>29.26</td>\n",
       "    </tr>\n",
       "    <tr>\n",
       "      <th>26</th>\n",
       "      <td>Danys Baez</td>\n",
       "      <td>\"BAL\"</td>\n",
       "      <td>\"Relief Pitcher\"</td>\n",
       "      <td>75</td>\n",
       "      <td>225</td>\n",
       "      <td>29.47</td>\n",
       "    </tr>\n",
       "  </tbody>\n",
       "</table>\n",
       "</div>"
      ],
      "text/plain": [
       "                Name  \"Team\"            \"Position\"   \"Height(inches)\"  \\\n",
       "0      Adam Donachie   \"BAL\"             \"Catcher\"                 74   \n",
       "1          Paul Bako   \"BAL\"             \"Catcher\"                 74   \n",
       "2    Ramon Hernandez   \"BAL\"             \"Catcher\"                 72   \n",
       "3       Kevin Millar   \"BAL\"       \"First Baseman\"                 72   \n",
       "4        Chris Gomez   \"BAL\"       \"First Baseman\"                 73   \n",
       "5      Brian Roberts   \"BAL\"      \"Second Baseman\"                 69   \n",
       "6      Miguel Tejada   \"BAL\"           \"Shortstop\"                 69   \n",
       "7        Melvin Mora   \"BAL\"       \"Third Baseman\"                 71   \n",
       "8        Aubrey Huff   \"BAL\"       \"Third Baseman\"                 76   \n",
       "9         Adam Stern   \"BAL\"          \"Outfielder\"                 71   \n",
       "10   Jeff Fiorentino   \"BAL\"          \"Outfielder\"                 73   \n",
       "11     Freddie Bynum   \"BAL\"          \"Outfielder\"                 73   \n",
       "12     Nick Markakis   \"BAL\"          \"Outfielder\"                 74   \n",
       "13     Brandon Fahey   \"BAL\"          \"Outfielder\"                 74   \n",
       "14   Corey Patterson   \"BAL\"          \"Outfielder\"                 69   \n",
       "15        Jay Payton   \"BAL\"          \"Outfielder\"                 70   \n",
       "16       Jay Gibbons   \"BAL\"   \"Designated Hitter\"                 72   \n",
       "17       Erik Bedard   \"BAL\"    \"Starting Pitcher\"                 73   \n",
       "18       Hayden Penn   \"BAL\"    \"Starting Pitcher\"                 75   \n",
       "19       Adam Loewen   \"BAL\"    \"Starting Pitcher\"                 78   \n",
       "20    Daniel Cabrera   \"BAL\"    \"Starting Pitcher\"                 79   \n",
       "21    Steve Trachsel   \"BAL\"    \"Starting Pitcher\"                 76   \n",
       "22      Jaret Wright   \"BAL\"    \"Starting Pitcher\"                 74   \n",
       "23       Kris Benson   \"BAL\"    \"Starting Pitcher\"                 76   \n",
       "24  Scott Williamson   \"BAL\"      \"Relief Pitcher\"                 72   \n",
       "25      John Parrish   \"BAL\"      \"Relief Pitcher\"                 71   \n",
       "26        Danys Baez   \"BAL\"      \"Relief Pitcher\"                 75   \n",
       "\n",
       "     \"Weight(lbs)\"   \"Age\"  \n",
       "0              180   22.99  \n",
       "1              215   34.69  \n",
       "2              210   30.78  \n",
       "3              210   35.43  \n",
       "4              188   35.71  \n",
       "5              176   29.39  \n",
       "6              209   30.77  \n",
       "7              200   35.07  \n",
       "8              231   30.19  \n",
       "9              180   27.05  \n",
       "10             188   23.88  \n",
       "11             180   26.96  \n",
       "12             185   23.29  \n",
       "13             160   26.11  \n",
       "14             180   27.55  \n",
       "15             185   34.27  \n",
       "16             197   30.00  \n",
       "17             189   27.99  \n",
       "18             185   22.38  \n",
       "19             219   22.89  \n",
       "20             230   25.76  \n",
       "21             205   36.33  \n",
       "22             230   31.17  \n",
       "23             195   32.31  \n",
       "24             180   31.03  \n",
       "25             192   29.26  \n",
       "26             225   29.47  "
      ]
     },
     "execution_count": 14,
     "metadata": {},
     "output_type": "execute_result"
    }
   ],
   "source": [
    "a=pd.read_csv('player.csv')\n",
    "a"
   ]
  },
  {
   "cell_type": "code",
   "execution_count": 15,
   "metadata": {},
   "outputs": [
    {
     "data": {
      "text/html": [
       "<div>\n",
       "<style scoped>\n",
       "    .dataframe tbody tr th:only-of-type {\n",
       "        vertical-align: middle;\n",
       "    }\n",
       "\n",
       "    .dataframe tbody tr th {\n",
       "        vertical-align: top;\n",
       "    }\n",
       "\n",
       "    .dataframe thead th {\n",
       "        text-align: right;\n",
       "    }\n",
       "</style>\n",
       "<table border=\"1\" class=\"dataframe\">\n",
       "  <thead>\n",
       "    <tr style=\"text-align: right;\">\n",
       "      <th></th>\n",
       "      <th>Name</th>\n",
       "      <th>\"Team\"</th>\n",
       "      <th>\"Position\"</th>\n",
       "      <th>\"Height(inches)\"</th>\n",
       "      <th>\"Weight(lbs)\"</th>\n",
       "    </tr>\n",
       "  </thead>\n",
       "  <tbody>\n",
       "    <tr>\n",
       "      <th>0</th>\n",
       "      <td>Adam Donachie</td>\n",
       "      <td>\"BAL\"</td>\n",
       "      <td>\"Catcher\"</td>\n",
       "      <td>74</td>\n",
       "      <td>180</td>\n",
       "    </tr>\n",
       "    <tr>\n",
       "      <th>1</th>\n",
       "      <td>Paul Bako</td>\n",
       "      <td>\"BAL\"</td>\n",
       "      <td>\"Catcher\"</td>\n",
       "      <td>74</td>\n",
       "      <td>215</td>\n",
       "    </tr>\n",
       "    <tr>\n",
       "      <th>2</th>\n",
       "      <td>Ramon Hernandez</td>\n",
       "      <td>\"BAL\"</td>\n",
       "      <td>\"Catcher\"</td>\n",
       "      <td>72</td>\n",
       "      <td>210</td>\n",
       "    </tr>\n",
       "    <tr>\n",
       "      <th>3</th>\n",
       "      <td>Kevin Millar</td>\n",
       "      <td>\"BAL\"</td>\n",
       "      <td>\"First Baseman\"</td>\n",
       "      <td>72</td>\n",
       "      <td>210</td>\n",
       "    </tr>\n",
       "    <tr>\n",
       "      <th>4</th>\n",
       "      <td>Chris Gomez</td>\n",
       "      <td>\"BAL\"</td>\n",
       "      <td>\"First Baseman\"</td>\n",
       "      <td>73</td>\n",
       "      <td>188</td>\n",
       "    </tr>\n",
       "  </tbody>\n",
       "</table>\n",
       "</div>"
      ],
      "text/plain": [
       "              Name  \"Team\"        \"Position\"   \"Height(inches)\"  \\\n",
       "0    Adam Donachie   \"BAL\"         \"Catcher\"                 74   \n",
       "1        Paul Bako   \"BAL\"         \"Catcher\"                 74   \n",
       "2  Ramon Hernandez   \"BAL\"         \"Catcher\"                 72   \n",
       "3     Kevin Millar   \"BAL\"   \"First Baseman\"                 72   \n",
       "4      Chris Gomez   \"BAL\"   \"First Baseman\"                 73   \n",
       "\n",
       "    \"Weight(lbs)\"  \n",
       "0             180  \n",
       "1             215  \n",
       "2             210  \n",
       "3             210  \n",
       "4             188  "
      ]
     },
     "execution_count": 15,
     "metadata": {},
     "output_type": "execute_result"
    }
   ],
   "source": [
    "a.iloc[[0,1,2,3,4],[0,1,2,3,4]]"
   ]
  },
  {
   "cell_type": "code",
   "execution_count": null,
   "metadata": {},
   "outputs": [],
   "source": []
  }
 ],
 "metadata": {
  "kernelspec": {
   "display_name": "Python 3",
   "language": "python",
   "name": "python3"
  },
  "language_info": {
   "codemirror_mode": {
    "name": "ipython",
    "version": 3
   },
   "file_extension": ".py",
   "mimetype": "text/x-python",
   "name": "python",
   "nbconvert_exporter": "python",
   "pygments_lexer": "ipython3",
   "version": "3.8.3"
  }
 },
 "nbformat": 4,
 "nbformat_minor": 4
}
